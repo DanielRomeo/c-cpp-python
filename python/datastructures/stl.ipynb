{
 "cells": [
  {
   "cell_type": "markdown",
   "metadata": {},
   "source": [
    "# Standard library data structures"
   ]
  },
  {
   "cell_type": "markdown",
   "metadata": {},
   "source": [
    "## Dictionaries"
   ]
  },
  {
   "cell_type": "markdown",
   "metadata": {},
   "source": [
    "### Example 1\n",
    "basics"
   ]
  },
  {
   "cell_type": "code",
   "execution_count": 48,
   "metadata": {},
   "outputs": [
    {
     "name": "stdout",
     "output_type": "stream",
     "text": [
      "{'FrankSamson': {'name': 'Frank', 'age': 28, 'senior': False}, 'KimLowell': {'name': 'Kim', 'age': 35}}\n",
      "2\n",
      "{'name': 'Kim', 'age': 35}\n",
      "dict_keys(['FrankSamson', 'KimLowell'])\n",
      "dict_values([{'name': 'Frank', 'age': 28, 'senior': False}, {'name': 'Kim', 'age': 35}])\n",
      "dict_values(['Kim', 35])\n",
      "{'name': 'Kim', 'age': 35, 'senior': False}\n"
     ]
    }
   ],
   "source": [
    "# Example 1\n",
    "myDictionary = {\n",
    "    \"FrankSamson\": {\n",
    "        \"name\": \"Frank\",\n",
    "        \"age\": 28,\n",
    "        \"senior\": False\n",
    "    },\n",
    "    \"KimLowell\": {\n",
    "        \"name\": \"Kim\",\n",
    "        \"age\": 35\n",
    "    }\n",
    "}\n",
    "\n",
    "# print entire object\n",
    "print(myDictionary)\n",
    "\n",
    "# get the length\n",
    "print(len(myDictionary))\n",
    "\n",
    "# get the details of a user\n",
    "print(myDictionary.get(\"KimLowell\"))\n",
    "\n",
    "# get all the keys of the dict:\n",
    "print(myDictionary.keys())\n",
    "\n",
    "# get the values of the dictionary:\n",
    "print(myDictionary.values()) # returns an arry of objects\n",
    "\n",
    "# get the values of values in the dict:\n",
    "print(myDictionary[\"KimLowell\"].values()) # returns an array because there arent any more objects\n",
    "\n",
    "# give the dictionary a key and print\n",
    "myDictionary[\"KimLowell\"][\"senior\"] = False;\n",
    "print(myDictionary[\"KimLowell\"])"
   ]
  },
  {
   "cell_type": "markdown",
   "metadata": {},
   "source": [
    "### Example 2\n",
    "Travesing"
   ]
  },
  {
   "cell_type": "code",
   "execution_count": 49,
   "metadata": {},
   "outputs": [
    {
     "name": "stdout",
     "output_type": "stream",
     "text": [
      "{'name': 'Frank', 'age': 28, 'senior': False}\n",
      "{'name': 'Kim', 'age': 35, 'senior': False}\n",
      "\n",
      "{'name': 'Frank', 'age': 70, 'senior': False}\n",
      "{'name': 'Kim', 'age': 35, 'senior': False}\n"
     ]
    }
   ],
   "source": [
    "# Example 2\n",
    "# mydict = {\n",
    "#     \"FrankSamson\": {\n",
    "#         \"name\": \"Frank\",\n",
    "#         \"age\": 28,\n",
    "#         \"senior\": False\n",
    "#     },\n",
    "#     \"KimLowell\": {\n",
    "#         \"name\": \"Kim\",\n",
    "#         \"age\": 35\n",
    "#     }\n",
    "# }\n",
    "\n",
    "\n",
    "for user in myDictionary.keys():\n",
    "    print(myDictionary[user])\n",
    "print(\"\")\n",
    "\n",
    "# update a user and traverse:\n",
    "myDictionary[\"FrankSamson\"][\"age\"] = 70\n",
    "for i in myDictionary.keys():\n",
    "    print(myDictionary[i])"
   ]
  },
  {
   "cell_type": "markdown",
   "metadata": {},
   "source": [
    "# Lists"
   ]
  },
  {
   "cell_type": "code",
   "execution_count": 50,
   "metadata": {},
   "outputs": [
    {
     "name": "stdout",
     "output_type": "stream",
     "text": [
      "yes\n"
     ]
    }
   ],
   "source": [
    "print(\"yes\")"
   ]
  }
 ],
 "metadata": {
  "kernelspec": {
   "display_name": "Python 3",
   "language": "python",
   "name": "python3"
  },
  "language_info": {
   "codemirror_mode": {
    "name": "ipython",
    "version": 3
   },
   "file_extension": ".py",
   "mimetype": "text/x-python",
   "name": "python",
   "nbconvert_exporter": "python",
   "pygments_lexer": "ipython3",
   "version": "3.6.12"
  }
 },
 "nbformat": 4,
 "nbformat_minor": 4
}
