{
 "cells": [
  {
   "cell_type": "markdown",
   "metadata": {},
   "source": [
    "# Tree Datastructure"
   ]
  },
  {
   "cell_type": "code",
   "execution_count": 1,
   "metadata": {},
   "outputs": [],
   "source": [
    "class TreeNode:\n",
    "    def __init__(self, data):\n",
    "        self.data = data\n",
    "        self.children = [] #tree takes an array of children\n",
    "        self.parent = None\n",
    "        \n",
    "    def add_child(self, child):\n",
    "        child.parent = self;\n",
    "        self.children.append(child)\n",
    "    \n",
    "    def get_level(self):\n",
    "        level = 0\n",
    "        p = self.parent\n",
    "        while p:\n",
    "            level += 1\n",
    "            p = p.parent\n",
    "            \n",
    "        return level\n",
    "        \n",
    "        \n",
    "    def print_tree(self):\n",
    "        spaces =  ' ' * self.get_level() *3\n",
    "        prefix = spaces + \"|___\" if self.parent else \"\"\n",
    "        print(prefix + self.data)\n",
    "        if len(self.children) > 0:\n",
    "            for child in self.children:\n",
    "                child.print_tree()\n",
    "                \n",
    "    \n",
    "# initialization:\n",
    "root = TreeNode(\"Electronics\")\n",
    "\n",
    "# create child nodes and add them to root node\n",
    "laptops = TreeNode(\"Laptops\")\n",
    "\n",
    "\n",
    "phones = TreeNode(\"Phones\")\n",
    "root.add_child(laptops);\n",
    "root.add_child(phones);\n",
    "\n",
    "laptops.add_child(TreeNode(\"Samsung\"))\n",
    "\n",
    "# add children the phone child\n",
    "nokia = TreeNode(\"Nokia\")\n",
    "blackberry = TreeNode(\"Blackberry\")\n",
    "phones.add_child(nokia)\n",
    "phones.add_child(blackberry)\n"
   ]
  },
  {
   "cell_type": "code",
   "execution_count": 2,
   "metadata": {},
   "outputs": [
    {
     "name": "stdout",
     "output_type": "stream",
     "text": [
      "Electronics\n",
      "   |___Laptops\n",
      "      |___Samsung\n",
      "   |___Phones\n",
      "      |___Nokia\n",
      "      |___Blackberry\n"
     ]
    }
   ],
   "source": [
    "# print the entire tree\n",
    "root.print_tree()"
   ]
  }
 ],
 "metadata": {
  "kernelspec": {
   "display_name": "Python 3",
   "language": "python",
   "name": "python3"
  },
  "language_info": {
   "codemirror_mode": {
    "name": "ipython",
    "version": 3
   },
   "file_extension": ".py",
   "mimetype": "text/x-python",
   "name": "python",
   "nbconvert_exporter": "python",
   "pygments_lexer": "ipython3",
   "version": "3.9.12"
  }
 },
 "nbformat": 4,
 "nbformat_minor": 4
}
