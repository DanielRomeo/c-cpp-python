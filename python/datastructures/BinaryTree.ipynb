{
 "cells": [
  {
   "cell_type": "markdown",
   "metadata": {},
   "source": [
    "# Binary-tree Data structure"
   ]
  },
  {
   "cell_type": "code",
   "execution_count": 21,
   "metadata": {},
   "outputs": [],
   "source": [
    "class BinarySearchTree:\n",
    "    def __init__(self, data):\n",
    "        self.data = data\n",
    "        self.left = None\n",
    "        self.right = None\n",
    "    \n",
    "    def add_child(self, child):\n",
    "        if child.data == self.data:\n",
    "            return\n",
    "        elif child.data < self.data:\n",
    "            if self.left:\n",
    "                newNode = self.left\n",
    "                newNode.add_child(data)\n",
    "            else:\n",
    "                print(child.data)\n",
    "                self.left = BinarySearchTree(child)\n",
    "        elif child.data > self.data:\n",
    "            if self.right:\n",
    "                newNode = self.right\n",
    "                newNode.add_child(child)\n",
    "            else:\n",
    "                self.right = BinarySearchTree(child)\n",
    "                \n",
    "    def in_order_traversal(self):\n",
    "        \n",
    "            \n",
    "#     def print_tree(self):\n",
    "#         print(self.data)\n",
    "#         if self.left:\n",
    "#             leftNode = self.left\n",
    "#             print(leftNode.data)\n",
    "#             leftNode.print_tree()\n",
    "#         while self.right:\n",
    "#             rightNode = self.right\n",
    "#             rightNode.print_tree()\n",
    "    "
   ]
  },
  {
   "cell_type": "code",
   "execution_count": 22,
   "metadata": {},
   "outputs": [
    {
     "name": "stdout",
     "output_type": "stream",
     "text": [
      "50\n",
      "50\n"
     ]
    }
   ],
   "source": [
    "root = BinarySearchTree(100)\n",
    "                        \n",
    "frank = BinarySearchTree(50)\n",
    "root.add_child(frank)\n",
    "\n",
    "print(root.left.data.data)\n",
    "# root.print_tree()"
   ]
  },
  {
   "cell_type": "code",
   "execution_count": null,
   "metadata": {},
   "outputs": [],
   "source": []
  }
 ],
 "metadata": {
  "kernelspec": {
   "display_name": "Python 3",
   "language": "python",
   "name": "python3"
  },
  "language_info": {
   "codemirror_mode": {
    "name": "ipython",
    "version": 3
   },
   "file_extension": ".py",
   "mimetype": "text/x-python",
   "name": "python",
   "nbconvert_exporter": "python",
   "pygments_lexer": "ipython3",
   "version": "3.6.12"
  }
 },
 "nbformat": 4,
 "nbformat_minor": 4
}
