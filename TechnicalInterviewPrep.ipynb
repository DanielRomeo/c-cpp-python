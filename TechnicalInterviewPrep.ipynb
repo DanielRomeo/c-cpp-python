{
  "nbformat": 4,
  "nbformat_minor": 0,
  "metadata": {
    "colab": {
      "provenance": [],
      "collapsed_sections": [],
      "toc_visible": true,
      "authorship_tag": "ABX9TyO/KkvDHrS2BADH1gRmsWSF",
      "include_colab_link": true
    },
    "kernelspec": {
      "name": "python3",
      "display_name": "Python 3"
    },
    "language_info": {
      "name": "python"
    }
  },
  "cells": [
    {
      "cell_type": "markdown",
      "metadata": {
        "id": "view-in-github",
        "colab_type": "text"
      },
      "source": [
        "<a href=\"https://colab.research.google.com/github/DanielRomeo/c-cpp-python/blob/master/TechnicalInterviewPrep.ipynb\" target=\"_parent\"><img src=\"https://colab.research.google.com/assets/colab-badge.svg\" alt=\"Open In Colab\"/></a>"
      ]
    },
    {
      "cell_type": "markdown",
      "source": [
        "# Python ARRAYS, LISTS and SETS\n"
      ],
      "metadata": {
        "id": "sx9q4m59Toic"
      }
    },
    {
      "cell_type": "code",
      "execution_count": null,
      "metadata": {
        "colab": {
          "base_uri": "https://localhost:8080/"
        },
        "id": "J45M70Ai83I7",
        "outputId": "99c04f4d-8295-4604-db4c-d60c46a505ba"
      },
      "outputs": [
        {
          "output_type": "stream",
          "name": "stdout",
          "text": [
            "length of myArray is : 3\n",
            "4\n",
            "5\n",
            "6\n",
            "[4, 5, 6]\n",
            "[5, 6]\n",
            "[5, 6, 400, 'kim']\n",
            "[6, 400, 'kim']\n",
            "[6, 10000, 400, 'kim']\n"
          ]
        }
      ],
      "source": [
        "myarray = [4,5,6]\n",
        "\n",
        "# get length of array:\n",
        "print(\"length of myArray is : {}\".format(len(myarray)))\n",
        "\n",
        "# print all elements:\n",
        "for x in myarray:\n",
        "  print(x)\n",
        "\n",
        "print(myarray)\n",
        "myarray.pop(0) # removed the first element\n",
        "print(myarray)\n",
        "myarray.append(400);\n",
        "print(myarray)\n",
        "myarray.remove(5)\n",
        "print(myarray)\n",
        "\n",
        "# insert an element at a specific position:\n",
        "myarray.insert(1, 10000)\n",
        "print(myarray)"
      ]
    },
    {
      "cell_type": "code",
      "source": [
        "mylist = [\"apple\", \"banana\", \"cherry\"]\n",
        "\n",
        "print(mylist) # returns the list\n",
        "print(type(mylist)) # returns the type\n",
        "\n",
        "# append and insert the list:\n",
        "mylist.append(\"chocklate\")\n",
        "mylist.append(300)\n",
        "print(mylist)\n",
        "\n",
        "# creating a new list:\n",
        "list2 = list((\"frankfurt\", \"cape town\"))\n",
        "print(list2)\n",
        "\n",
        "print(list2.pop())"
      ],
      "metadata": {
        "colab": {
          "base_uri": "https://localhost:8080/"
        },
        "id": "-kv3NR089D2-",
        "outputId": "de20a6d6-9cf3-4967-a899-655bcfd772f1"
      },
      "execution_count": null,
      "outputs": [
        {
          "output_type": "stream",
          "name": "stdout",
          "text": [
            "['apple', 'banana', 'cherry']\n",
            "<class 'list'>\n",
            "['apple', 'banana', 'cherry', 'chocklate', 300]\n",
            "['frankfurt', 'cape town']\n",
            "cape town\n"
          ]
        }
      ]
    },
    {
      "cell_type": "markdown",
      "source": [
        "loop through lists\n"
      ],
      "metadata": {
        "id": "NB3twlftY7CC"
      }
    },
    {
      "cell_type": "code",
      "source": [
        "mylist = [\"apple\", \"banana\", \"cherry\"]\n",
        "\n",
        "# loop\n",
        "for i in range(len(mylist)):\n",
        "  print(mylist[i])\n",
        "\n",
        "print('\\n')\n",
        "\n",
        "# print all items with a while loop:\n",
        "j = 0\n",
        "while j < len(mylist):\n",
        "  print(mylist[j])\n",
        "  j = j + 1\n",
        "\n",
        "print('\\n')\n",
        "\n",
        "# print the elements using while loop in reverse:\n",
        "k = len(mylist) \n",
        "# print(k)\n",
        "while k > 0:\n",
        "  print(mylist[k-1])\n",
        "  k = k - 1\n"
      ],
      "metadata": {
        "colab": {
          "base_uri": "https://localhost:8080/"
        },
        "id": "AbwFaR4C9D-b",
        "outputId": "d79c5394-7f15-40e0-8850-28730de90537"
      },
      "execution_count": null,
      "outputs": [
        {
          "output_type": "stream",
          "name": "stdout",
          "text": [
            "apple\n",
            "banana\n",
            "cherry\n",
            "\n",
            "\n",
            "apple\n",
            "banana\n",
            "cherry\n",
            "\n",
            "\n",
            "cherry\n",
            "banana\n",
            "apple\n"
          ]
        }
      ]
    },
    {
      "cell_type": "code",
      "source": [
        "# list sorting and stuff:\n",
        "\n",
        "sortlist = ['pop','amanda', \"jacky\", \"zen\"]\n",
        "sortlist.sort()\n",
        "print(sortlist)\n",
        "\n",
        "sortlist.sort(reverse = True)\n",
        "print(sortlist)"
      ],
      "metadata": {
        "colab": {
          "base_uri": "https://localhost:8080/"
        },
        "id": "5A9_KjV_9EEY",
        "outputId": "084b7b42-b075-4b83-ce6c-ac1881872993"
      },
      "execution_count": null,
      "outputs": [
        {
          "output_type": "stream",
          "name": "stdout",
          "text": [
            "['amanda', 'jacky', 'pop', 'zen']\n",
            "['zen', 'pop', 'jacky', 'amanda']\n"
          ]
        }
      ]
    },
    {
      "cell_type": "code",
      "source": [
        "# sets:\n",
        "\n",
        "myset = set((\"camo\", 200, 90))\n",
        "set2 = {\"frank\", \"jim\"}\n",
        "\n",
        "print(len(set2))\n",
        "print(myset)"
      ],
      "metadata": {
        "id": "sUa6y4fv9EIY",
        "colab": {
          "base_uri": "https://localhost:8080/"
        },
        "outputId": "641bba14-ccad-4eab-eefe-75aec536ee3d"
      },
      "execution_count": null,
      "outputs": [
        {
          "output_type": "stream",
          "name": "stdout",
          "text": [
            "2\n",
            "{'camo', 90, 200}\n"
          ]
        }
      ]
    },
    {
      "cell_type": "markdown",
      "source": [
        "# TUPLES and DICTIONARIES\n",
        "\n"
      ],
      "metadata": {
        "id": "Th9VsCyZfDXg"
      }
    },
    {
      "cell_type": "code",
      "source": [
        "# Dictionaries:\n",
        "dict = {\n",
        "    \"brand\": \"ford\",\n",
        "    \"model\": \"mustang\",\n",
        "    \"year\": 1990,\n",
        "    \"svs\": 777,\n",
        "    \"colors\": [\"red\", \"white\", \"green\"]\n",
        "}\n",
        "\n",
        "print(dict) # print entire dict\n",
        "print(dict[\"colors\"]) # print the item\n",
        "print(len(dict))\n",
        "\n",
        "# print the length of the colors :\n",
        "print(len(dict[\"colors\"]))\n",
        "\n",
        "# get item in dict:\n",
        "x = dict[\"model\"]\n",
        "print(x)\n",
        "\n",
        "print('\\n')\n",
        "\n",
        "# get the keys in the dict:\n",
        "print(dict.keys())\n",
        "\n",
        "# change things in dict:\n",
        "dict[\"model\"] = \"focus\"\n",
        "print(dict)\n",
        "\n",
        "print('\\n')\n",
        "\n",
        "# get the values:\n",
        "print(dict.values())\n",
        "\n",
        "# get the items:\n",
        "print(\"items are: {} \".format(dict.items()))\n",
        "\n",
        "# check if key exists:\n",
        "if \"year\" in dict:\n",
        "  print(True)\n",
        "else:\n",
        "  print(False)\n",
        "\n",
        "# add items:\n",
        "dict[\"type\"] = \"stick\"\n",
        "dict.pop(\"type\")\n",
        "#dict.popitem() # this will remove the last item\n",
        "print(dict)\n",
        "\n",
        "print(\"\\n\")\n",
        "# loop around the dict:\n",
        "for x in dict:\n",
        "  print(\"KEYS are: {} VALUES are: {}\".format( x , dict[x] ) )\n",
        "\n",
        "# print both keys and values:\n",
        "for x,y in dict.items():\n",
        "  print(x, y)\n",
        "\n",
        "print(\"\\n\")\n",
        "\n",
        "# copy a dict into another dictionary:\n",
        "mydict = dict.copy()\n",
        "print(mydict)"
      ],
      "metadata": {
        "id": "EdOQinLefKX3",
        "colab": {
          "base_uri": "https://localhost:8080/"
        },
        "outputId": "05d870cf-ed74-4bb6-c209-71c13a5be82e"
      },
      "execution_count": null,
      "outputs": [
        {
          "output_type": "stream",
          "name": "stdout",
          "text": [
            "{'brand': 'ford', 'model': 'mustang', 'year': 1990, 'svs': 777, 'colors': ['red', 'white', 'green']}\n",
            "['red', 'white', 'green']\n",
            "5\n",
            "3\n",
            "mustang\n",
            "\n",
            "\n",
            "dict_keys(['brand', 'model', 'year', 'svs', 'colors'])\n",
            "{'brand': 'ford', 'model': 'focus', 'year': 1990, 'svs': 777, 'colors': ['red', 'white', 'green']}\n",
            "\n",
            "\n",
            "dict_values(['ford', 'focus', 1990, 777, ['red', 'white', 'green']])\n",
            "items are: dict_items([('brand', 'ford'), ('model', 'focus'), ('year', 1990), ('svs', 777), ('colors', ['red', 'white', 'green'])]) \n",
            "True\n",
            "{'brand': 'ford', 'model': 'focus', 'year': 1990, 'svs': 777, 'colors': ['red', 'white', 'green']}\n",
            "\n",
            "\n",
            "KEYS are: brand VALUES are: ford\n",
            "KEYS are: model VALUES are: focus\n",
            "KEYS are: year VALUES are: 1990\n",
            "KEYS are: svs VALUES are: 777\n",
            "KEYS are: colors VALUES are: ['red', 'white', 'green']\n",
            "brand ford\n",
            "model focus\n",
            "year 1990\n",
            "svs 777\n",
            "colors ['red', 'white', 'green']\n",
            "\n",
            "\n",
            "{'brand': 'ford', 'model': 'focus', 'year': 1990, 'svs': 777, 'colors': ['red', 'white', 'green']}\n"
          ]
        }
      ]
    },
    {
      "cell_type": "code",
      "source": [
        "# tuples:\n",
        "thistuple = (\"apple\", \"banana\", \"cherry\", \"orange\", \"kiwi\", \"melon\", \"mango\")\n",
        "print(thistuple)\n",
        "print(thistuple[-1]) # get last item\n",
        "\n",
        "print(\"\\n\")\n",
        "\n",
        "# print apple and banana using traditional methods:\n",
        "#for i in range(1, 3, 1):\n",
        "  #print(thistuple[i])\n",
        "\n",
        "# loop a tuple backwards:\n",
        "for i in reversed(range(len(thistuple))):\n",
        "  print(thistuple[i])"
      ],
      "metadata": {
        "colab": {
          "base_uri": "https://localhost:8080/"
        },
        "id": "1-1WzUeRWrBC",
        "outputId": "6caccd9d-4e31-4316-d2f1-c3a35e6ad0f5"
      },
      "execution_count": null,
      "outputs": [
        {
          "output_type": "stream",
          "name": "stdout",
          "text": [
            "('apple', 'banana', 'cherry', 'orange', 'kiwi', 'melon', 'mango')\n",
            "mango\n",
            "\n",
            "\n",
            "mango\n",
            "melon\n",
            "kiwi\n",
            "orange\n",
            "cherry\n",
            "banana\n",
            "apple\n"
          ]
        }
      ]
    },
    {
      "cell_type": "markdown",
      "source": [
        "# Functions and Classes\n"
      ],
      "metadata": {
        "id": "hPahTQ4LagoY"
      }
    },
    {
      "cell_type": "code",
      "source": [
        "def myfunc(name, age = 19):\n",
        "  print(\"name is {}, and age is {} \".format(name, age))\n",
        "\n",
        "name = \"daniel\"\n",
        "myfunc(name, 20)\n",
        "\n",
        "\n",
        "# pass and returns:\n",
        "def function2():\n",
        "  pass\n",
        "  return 100\n",
        "  \n",
        "print(function2())"
      ],
      "metadata": {
        "colab": {
          "base_uri": "https://localhost:8080/"
        },
        "id": "80eJKLV5akHf",
        "outputId": "1185aac5-3914-4749-e8a9-db9af868d5c3"
      },
      "execution_count": null,
      "outputs": [
        {
          "output_type": "stream",
          "name": "stdout",
          "text": [
            "name is daniel, and age is 20 \n",
            "100\n"
          ]
        }
      ]
    },
    {
      "cell_type": "code",
      "source": [
        "# classes\n",
        "\n",
        "class Car:\n",
        "  x = 30\n",
        "mycar = Car();\n",
        "\n",
        "# create a real class:\n",
        "class Person:\n",
        "  def __init__(self, name, age):\n",
        "    self.name = name\n",
        "    self.age = age\n",
        "  \n",
        "  def printDetails(self):\n",
        "    print(\"name is : {}, age is {}\".format(self.name, self.age))\n",
        "\n",
        "myperson = Person(\"sam\", 20)\n",
        "myperson.printDetails()"
      ],
      "metadata": {
        "colab": {
          "base_uri": "https://localhost:8080/"
        },
        "id": "iXAmxX-MbvLW",
        "outputId": "1f858840-af64-49bf-a731-42a59ae9f5ec"
      },
      "execution_count": null,
      "outputs": [
        {
          "output_type": "stream",
          "name": "stdout",
          "text": [
            "name is : sam, age is 20\n"
          ]
        }
      ]
    },
    {
      "cell_type": "code",
      "source": [
        "# implement stack in  python:\n",
        "\n",
        "class Stacker:\n",
        "  arr = []\n",
        "  def __init__(self):\n",
        "    pass\n",
        "  def pop(self):\n",
        "    self.arr.pop();\n",
        "  def push(self, x):\n",
        "    self.arr.append(x)\n",
        "\n",
        "  def topItem(self):\n",
        "    return self.arr[len(self.arr) - 1]\n",
        "  \n",
        "mystack = Stacker()\n",
        "mystack.push(12)\n",
        "mystack.push(1233)\n",
        "mystack.push(33)\n",
        "\n",
        "print(mystack.topItem())"
      ],
      "metadata": {
        "colab": {
          "base_uri": "https://localhost:8080/"
        },
        "id": "sXyIMapji3Zm",
        "outputId": "a5a5e57d-838f-4da9-83ca-1c4e644fade1"
      },
      "execution_count": null,
      "outputs": [
        {
          "output_type": "stream",
          "name": "stdout",
          "text": [
            "33\n"
          ]
        }
      ]
    },
    {
      "cell_type": "code",
      "source": [
        "# implement a queue in python:\n",
        "\n",
        "class Que:\n",
        "  arr = []\n",
        "  def __init__(self):\n",
        "    pass\n",
        "  def next(self):\n",
        "    return = self.arr.pop(0)\n",
        "\n",
        "  def push(self, x):\n",
        "    self.arr.append(x)\n",
        "\n",
        "  def nextItem(self):\n",
        "    return self.arr[0]\n",
        "\n",
        "myque = Que()\n",
        "myque.push(100, 200,300, 400)\n",
        "value = myque.next()\n",
        "\n",
        "print(value)"
      ],
      "metadata": {
        "id": "Cqd_ieO1kxTW"
      },
      "execution_count": null,
      "outputs": []
    },
    {
      "cell_type": "code",
      "source": [
        "# Linked list:\n",
        "\n",
        "class Node:\n",
        "  def __init__(self, data, next = None):\n",
        "    self.data = data\n",
        "    self.next = next\n",
        "\n",
        "class Linked:\n",
        "  def __init__(self, head):\n",
        "    self.head = head\n",
        "    self.size = 1\n",
        "\n",
        "  def printlist(self):\n",
        "    currentNode = self.head\n",
        "    print(currentNode.data)\n",
        "    while currentNode.next != None:\n",
        "      print(currentNode.data)\n",
        "      currentNode = currentNode.next\n",
        "\n",
        "  def addNode(self, data, next= None):\n",
        "    newNode = Node(data, next)\n",
        "    currentNode = self.head\n",
        "    while currentNode.next != None:\n",
        "      currentNode = currentNode.next\n",
        "    currentNode.next = newNode\n",
        "    self.size = self.size + 1\n",
        "\n",
        "  def deleteNode(self, data):\n",
        "    currentNode = self.head\n",
        "    previousNode = self.head\n",
        "    if currentNode.data == data: # if we need to delete the head node\n",
        "      self.head = currentNode.next\n",
        "      self.size = self.size - 1\n",
        "      return\n",
        "  \n",
        "    # if we deleting element in the middle or last element:\n",
        "    for i in range(self.size):\n",
        "      previousNode = currentNode\n",
        "      \n",
        "      if currentNode.data == data:\n",
        "        if currentNode.next == None: # if its the last node\n",
        "          previousNode.next = None\n",
        "          self.size = self.size - 1\n",
        "          return\n",
        "        nextNode = currentNode.next\n",
        "        previousNode.next = nextNode.data\n",
        "        self.size = self.size - 1\n",
        "        return\n",
        "\n",
        "\n",
        "# declare the head Node:\n",
        "myhead = Node(100, None)\n",
        "myLinkedList = Linked(myhead)\n",
        "\n",
        "# play with the linkedlist:\n",
        "# myLinkedList.printlist()\n",
        "\n",
        "myLinkedList.addNode(200)\n",
        "# myLinkedList.addNode(400)\n",
        "print(myLinkedList.size)\n",
        "\n",
        "myLinkedList.printlist()"
      ],
      "metadata": {
        "colab": {
          "base_uri": "https://localhost:8080/"
        },
        "id": "G20Cig2oowe8",
        "outputId": "0525ec3f-fcd2-428b-8f6e-aa7550824292"
      },
      "execution_count": null,
      "outputs": [
        {
          "output_type": "stream",
          "name": "stdout",
          "text": [
            "2\n",
            "100\n",
            "100\n"
          ]
        }
      ]
    },
    {
      "cell_type": "markdown",
      "source": [
        "# Problem solving\n"
      ],
      "metadata": {
        "id": "gPLdvuUDVQ8T"
      }
    },
    {
      "cell_type": "code",
      "source": [
        "# bubble sort:\n",
        "\n",
        "#swap function:\n",
        "def swapper(a, b):\n",
        "  c = a\n",
        "  a =b \n",
        "  b = c\n",
        "  return a,b\n",
        "\n",
        "\n",
        "arr = [2, 4, 6, 7,1 ,3]\n",
        "\n",
        "def bubblesort(arr):\n",
        "  for i in range(len(arr)-1):\n",
        "    for j in range(len(arr)-1):\n",
        "      if(arr[j] > arr[j+1]):\n",
        "        # x = arr[j]\n",
        "        # y = arr[j+1]\n",
        "        # x ,y = y, x\n",
        "        arr[j], arr[j+1] = swapper(arr[j], arr[j+1])\n",
        "  print(arr)\n",
        "\n",
        "\n",
        "bubblesort(arr)\n",
        "# print(arr)"
      ],
      "metadata": {
        "colab": {
          "base_uri": "https://localhost:8080/"
        },
        "id": "VpvKPDvAVT4q",
        "outputId": "7af241f9-48c1-4001-8aa3-5371f0fce744"
      },
      "execution_count": 13,
      "outputs": [
        {
          "output_type": "stream",
          "name": "stdout",
          "text": [
            "[1, 2, 3, 4, 6, 7]\n"
          ]
        }
      ]
    },
    {
      "cell_type": "code",
      "source": [
        "# maximumun number of toys problem:\n",
        "\n",
        "# prices = [1,2,3,4]\n",
        "\n",
        "def maximumToys(prices = [1,2,2,3,4], k = 10):\n",
        "  \n",
        "  toyNumber = 0\n",
        "  for i in range(len(prices)):\n",
        "    if(k > prices[i]):\n",
        "      k = k - prices[i]\n",
        "      toyNumber = toyNumber + 1\n",
        "  return toyNumber\n",
        "\n",
        "print(maximumToys())"
      ],
      "metadata": {
        "colab": {
          "base_uri": "https://localhost:8080/"
        },
        "id": "HthKBp7oYuc1",
        "outputId": "191285dd-7144-4ff4-e35d-67035b7b6f0f"
      },
      "execution_count": 21,
      "outputs": [
        {
          "output_type": "stream",
          "name": "stdout",
          "text": [
            "4\n"
          ]
        }
      ]
    },
    {
      "cell_type": "code",
      "source": [
        "# sort by the score in descending.. if they share same score, sort their names in ascending order...\n",
        "\n",
        "#swap function:\n",
        "def swapper(a, b):\n",
        "  c = a\n",
        "  a =b \n",
        "  b = c\n",
        "  return a,b\n",
        "\n",
        "n = 3\n",
        "data = [ [\"Smith\", 20], [\"Jones\", 15], [\"Jones\", 20] ]\n",
        "\n",
        "# should swap total of 3 times...\n",
        "\n",
        "def sorter(n, data):\n",
        "  for i in range(n-1):\n",
        "    \n",
        "    for j in range(n-1):\n",
        "      if(data[j][1] < data[j+1][1]):\n",
        "        data[j], data[j+1] = swapper(data[j] , data[j+1])\n",
        "      if(data[j][1] == data[j+1][1]):\n",
        "        if(data[j][0] > data[j+1][0]):\n",
        "           data[j], data[j+1] = swapper(data[j] , data[j+1])\n",
        "  print(data)\n",
        "sorter(n, data)"
      ],
      "metadata": {
        "colab": {
          "base_uri": "https://localhost:8080/"
        },
        "id": "TcXsV1mCbZpS",
        "outputId": "b19c862a-23be-42a6-de00-ab0d2d619cbb"
      },
      "execution_count": 43,
      "outputs": [
        {
          "output_type": "stream",
          "name": "stdout",
          "text": [
            "[['Jones', 20], ['Smith', 20], ['Jones', 15]]\n"
          ]
        }
      ]
    },
    {
      "cell_type": "code",
      "source": [
        "print(\"smith\"  > \"zones\")\n",
        "print(\"xeee\" > \"bq\")"
      ],
      "metadata": {
        "colab": {
          "base_uri": "https://localhost:8080/"
        },
        "id": "suoNzC95fm2q",
        "outputId": "d1c903af-aec2-499f-e41f-e95de1266a58"
      },
      "execution_count": 39,
      "outputs": [
        {
          "output_type": "stream",
          "name": "stdout",
          "text": [
            "False\n",
            "True\n"
          ]
        }
      ]
    },
    {
      "cell_type": "code",
      "source": [
        "# calculate median of an array:\n",
        "import math\n",
        "arr = [1,1,6,6]\n",
        "arr2 = [1,2,3,4,5]\n",
        "arr3 = [1,2,3,4,5,6,7, 8,9]\n",
        "\n",
        "def getMedian(arr):\n",
        "  if(len(arr)% 2 == 0):\n",
        "    med = math.floor(len(arr)/2)\n",
        "    num1 = arr[med]\n",
        "    num2 = arr[med-1]\n",
        "\n",
        "    value = math.floor((num1 + num2) / 2)\n",
        "    return value\n",
        "  else:\n",
        "    number = math.floor(len(arr) /2)\n",
        "    value = arr[number]\n",
        "    return value\n",
        "\n",
        "print(getMedian(arr))"
      ],
      "metadata": {
        "id": "8VxhdPBPvIO7"
      },
      "execution_count": null,
      "outputs": []
    },
    {
      "cell_type": "code",
      "source": [
        "# fraudulent activity notification problem: how many times will a client get a notification?\n",
        "def getMedian(arr):\n",
        "  if(len(arr)% 2 == 0):\n",
        "    med = math.floor(len(arr)/2)\n",
        "    num1 = arr[med]\n",
        "    num2 = arr[med-1]\n",
        "\n",
        "    value = math.floor((num1 + num2) / 2)\n",
        "    return value\n",
        "  else:\n",
        "    number = math.floor(len(arr) /2)\n",
        "    value = arr[number]\n",
        "    return value\n",
        "\n",
        "expenditure = [10,20,30,40,50, 1000, 4000]\n",
        "d = 3\n",
        "\n",
        "def func(d , expenditure):\n",
        "  numSent = 0\n",
        "  arr = []\n",
        "\n",
        "  for i in range(len(expenditure)):\n",
        "    if(len(arr) == d):\n",
        "      median = getMedian(arr)\n",
        "      doubledValue = median * 2\n",
        "      if(expenditure[i] >= doubledValue):\n",
        "        numSent = numSent + 1\n",
        "      \n",
        "      arr.pop(0)\n",
        "      arr.append(expenditure[i])\n",
        "    elif(len(arr) < d):\n",
        "      arr.append(expenditure[i])\n",
        "  return numSent\n",
        "\n",
        "func(d, expenditure)"
      ],
      "metadata": {
        "colab": {
          "base_uri": "https://localhost:8080/"
        },
        "id": "TWEVvrohjpGY",
        "outputId": "37c9fb39-f4b6-4dca-f7ea-bf2e79e61d11"
      },
      "execution_count": 59,
      "outputs": [
        {
          "output_type": "execute_result",
          "data": {
            "text/plain": [
              "3"
            ]
          },
          "metadata": {},
          "execution_count": 59
        }
      ]
    }
  ]
}