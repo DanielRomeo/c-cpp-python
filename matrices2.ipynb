{
  "nbformat": 4,
  "nbformat_minor": 0,
  "metadata": {
    "colab": {
      "provenance": [],
      "toc_visible": true,
      "authorship_tag": "ABX9TyPB07s0GVHC6NRuxH1+HuvI",
      "include_colab_link": true
    },
    "kernelspec": {
      "name": "python3",
      "display_name": "Python 3"
    },
    "language_info": {
      "name": "python"
    }
  },
  "cells": [
    {
      "cell_type": "markdown",
      "metadata": {
        "id": "view-in-github",
        "colab_type": "text"
      },
      "source": [
        "<a href=\"https://colab.research.google.com/github/DanielRomeo/c-cpp-python/blob/master/matrices2.ipynb\" target=\"_parent\"><img src=\"https://colab.research.google.com/assets/colab-badge.svg\" alt=\"Open In Colab\"/></a>"
      ]
    },
    {
      "cell_type": "markdown",
      "source": [
        "# Traversing over a 2d array:\n"
      ],
      "metadata": {
        "id": "JZnzVhwUkgk_"
      }
    },
    {
      "cell_type": "code",
      "execution_count": 7,
      "metadata": {
        "id": "yHQe-WN4YvsD",
        "outputId": "f61709a6-d40b-4615-b86e-607066b4c455",
        "colab": {
          "base_uri": "https://localhost:8080/"
        }
      },
      "outputs": [
        {
          "output_type": "stream",
          "name": "stdout",
          "text": [
            "1\n",
            "2\n",
            "3\n",
            "4\n",
            "5\n",
            "6\n",
            "7\n",
            "8\n",
            "9\n",
            "[[2, 4, 6], [8, 10, 12], [14, 16, 18]]\n"
          ]
        }
      ],
      "source": [
        "# python code here\n",
        "myarray1 = [\n",
        "    [1,2,3],\n",
        "    [4,5,6],\n",
        "    [7,8,9]\n",
        "]\n",
        "\n",
        "# print(\"mylist is {}\".format(myarray))\n",
        "\n",
        "# traversing through each and every single index:\n",
        "for i in range(len(myarray1)):\n",
        "  for j in range(len(myarray1[i])):\n",
        "    print(myarray1[i][j])\n",
        "\n",
        "# traverse through each item and multipy it's value by 2:\n",
        "for i in range(len(myarray1)):\n",
        "  for j in range(len(myarray1[i])):\n",
        "    myarray1[i][j] *= 2\n",
        "print(myarray1)\n"
      ]
    },
    {
      "cell_type": "markdown",
      "source": [
        "Adding matrices:"
      ],
      "metadata": {
        "id": "Bg4EZQE05M9T"
      }
    },
    {
      "cell_type": "code",
      "source": [
        "import copy\n",
        "\n",
        "myarray = [\n",
        "    [1,2,3],\n",
        "    [4,5,6],\n",
        "    [7,8,9]\n",
        "]\n",
        "\n",
        "def multipymatrixWithValue(arr, value = 2):\n",
        "  myarray2 = copy.copy(arr)\n",
        "  for i in range(len(myarray2)):\n",
        "    for j in range(len(myarray2[i])):\n",
        "      myarray2[i][j] *= value\n",
        "  return myarray2\n",
        "\n",
        "myarray2 = multipymatrixWithValue(myarray)\n",
        "# print(myarray)\n",
        "# print(myarray2) # now we have matrix myarray and myarray2\n",
        "\n",
        "## trying to figure out copying a list...\n",
        "## how to shallow copy and how to deep copy in python\n",
        "\n",
        "\n"
      ],
      "metadata": {
        "id": "Ft-sMP2C4urB",
        "outputId": "eabaeb63-c1e5-4ff7-e510-42c263e3755f",
        "colab": {
          "base_uri": "https://localhost:8080/"
        }
      },
      "execution_count": 29,
      "outputs": [
        {
          "output_type": "stream",
          "name": "stdout",
          "text": [
            "[[2, 4, 6], [8, 10, 12], [14, 16, 18]]\n",
            "[[2, 4, 6], [8, 10, 12], [14, 16, 18]]\n"
          ]
        }
      ]
    }
  ]
}