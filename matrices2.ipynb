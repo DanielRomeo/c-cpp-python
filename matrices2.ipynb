{
  "nbformat": 4,
  "nbformat_minor": 0,
  "metadata": {
    "colab": {
      "provenance": [],
      "toc_visible": true,
      "authorship_tag": "ABX9TyPkcx6xr/kQEiX+gsFI3+4v",
      "include_colab_link": true
    },
    "kernelspec": {
      "name": "python3",
      "display_name": "Python 3"
    },
    "language_info": {
      "name": "python"
    }
  },
  "cells": [
    {
      "cell_type": "markdown",
      "metadata": {
        "id": "view-in-github",
        "colab_type": "text"
      },
      "source": [
        "<a href=\"https://colab.research.google.com/github/DanielRomeo/c-cpp-python/blob/master/matrices2.ipynb\" target=\"_parent\"><img src=\"https://colab.research.google.com/assets/colab-badge.svg\" alt=\"Open In Colab\"/></a>"
      ]
    },
    {
      "cell_type": "markdown",
      "source": [
        "# Traversing over a 2d array:\n"
      ],
      "metadata": {
        "id": "JZnzVhwUkgk_"
      }
    },
    {
      "cell_type": "code",
      "execution_count": 22,
      "metadata": {
        "id": "yHQe-WN4YvsD",
        "outputId": "1cb25629-25a9-4b29-c26d-8006f3fd46a4",
        "colab": {
          "base_uri": "https://localhost:8080/"
        }
      },
      "outputs": [
        {
          "output_type": "stream",
          "name": "stdout",
          "text": [
            "1\n",
            "2\n",
            "3\n",
            "4\n",
            "5\n",
            "6\n",
            "7\n",
            "8\n",
            "9\n",
            "[[2, 4, 6], [8, 10, 12], [14, 16, 18]]\n"
          ]
        }
      ],
      "source": [
        "# python code here\n",
        "myarray = [\n",
        "    [1,2,3],\n",
        "    [4,5,6],\n",
        "    [7,8,9]\n",
        "]\n",
        "\n",
        "# print(\"mylist is {}\".format(myarray))\n",
        "\n",
        "# traversing through each and every single index:\n",
        "for i in range(len(myarray)):\n",
        "  for j in range(len(myarray[i])):\n",
        "    print(myarray[i][j])\n",
        "\n",
        "# traverse through each item and multipy it's value by 2:\n",
        "for i in range(len(myarray)):\n",
        "  for j in range(len(myarray[i])):\n",
        "    myarray[i][j] *= 2\n",
        "print(myarray)\n"
      ]
    }
  ]
}