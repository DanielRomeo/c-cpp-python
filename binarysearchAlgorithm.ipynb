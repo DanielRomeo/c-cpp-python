{
  "nbformat": 4,
  "nbformat_minor": 0,
  "metadata": {
    "colab": {
      "provenance": [],
      "toc_visible": true,
      "authorship_tag": "ABX9TyPIH/xOVXPEtITS5pxJ1rgN",
      "include_colab_link": true
    },
    "kernelspec": {
      "name": "python3",
      "display_name": "Python 3"
    },
    "language_info": {
      "name": "python"
    }
  },
  "cells": [
    {
      "cell_type": "markdown",
      "metadata": {
        "id": "view-in-github",
        "colab_type": "text"
      },
      "source": [
        "<a href=\"https://colab.research.google.com/github/DanielRomeo/c-cpp-python/blob/master/binarysearchAlgorithm.ipynb\" target=\"_parent\"><img src=\"https://colab.research.google.com/assets/colab-badge.svg\" alt=\"Open In Colab\"/></a>"
      ]
    },
    {
      "cell_type": "markdown",
      "source": [
        "#  Binary search algorithm"
      ],
      "metadata": {
        "id": "I0FxNDm_4Gs_"
      }
    },
    {
      "cell_type": "code",
      "execution_count": 75,
      "metadata": {
        "colab": {
          "base_uri": "https://localhost:8080/"
        },
        "id": "rLMBse9j2ofz",
        "outputId": "739673d8-4c4a-4930-d174-d420dfe28b28"
      },
      "outputs": [
        {
          "output_type": "stream",
          "name": "stdout",
          "text": [
            "Overwriting main.cpp\n"
          ]
        }
      ],
      "source": [
        "%%writefile main.cpp\n",
        "#include <iostream>\n",
        "#include <vector>\n",
        "\n",
        "// swap function:\n",
        "int[] swap(int myArray[], int a, int b ){\n",
        "  int temp = myArray[a];\n",
        "  myArray[a] = b;\n",
        "  myArray[b] = temp;\n",
        "  return myArray;\n",
        "}\n",
        "\n",
        "// Sort the algorithm first with bubble sort:\n",
        "int[] BubbleSort(int myArray[], int length){\n",
        "  for(int i = 0; i < length-1; ++i){\n",
        "    for(int j = 0; j < length-2; ++j){\n",
        "      if(myArray[j] > myArray[j+1]){\n",
        "        swap(j, j+1);\n",
        "      }\n",
        "    }\n",
        "  }\n",
        "}\n",
        "\n",
        "// Binary search, assuming the array is already sorted:\n",
        "int BinarySearch(int myArray[], int n, int x){\n",
        "  int start = 0;\n",
        "  int end = n-1;\n",
        "\n",
        "  while(start <= end){\n",
        "    int mid = (start + end) /2;\n",
        "\n",
        "    if(myArray[mid] == x){\n",
        "      return mid;\n",
        "    }else if(myArray[mid] < x){\n",
        "      start = mid+1;\n",
        "    }else{\n",
        "      end = mid-1;\n",
        "    }\n",
        "  }\n",
        "\n",
        "  return -1;\n",
        "}\n",
        "\n",
        "int main(){\n",
        "  int myArray[] = {5,4,3,2,1, 10};\n",
        "  int position = BinarySearch(myArray, 7, 4);\n",
        "  std::cout << position << std::endl;\n",
        "\n",
        "\n",
        "}"
      ]
    },
    {
      "cell_type": "code",
      "source": [
        "%%script bash\n",
        "g++ main.cpp\n",
        "./a.out\n"
      ],
      "metadata": {
        "colab": {
          "base_uri": "https://localhost:8080/"
        },
        "id": "tp7PG0yl22nJ",
        "outputId": "231980f4-9a10-4db1-9a9e-0d3adaea41e4"
      },
      "execution_count": 74,
      "outputs": [
        {
          "output_type": "stream",
          "name": "stdout",
          "text": [
            "-1\n"
          ]
        }
      ]
    }
  ]
}