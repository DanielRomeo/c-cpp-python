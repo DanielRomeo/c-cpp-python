{
  "nbformat": 4,
  "nbformat_minor": 0,
  "metadata": {
    "colab": {
      "provenance": [],
      "toc_visible": true,
      "authorship_tag": "ABX9TyNPbICzG1Vp/zfQHAHbBemO",
      "include_colab_link": true
    },
    "kernelspec": {
      "name": "python3",
      "display_name": "Python 3"
    },
    "language_info": {
      "name": "python"
    }
  },
  "cells": [
    {
      "cell_type": "markdown",
      "metadata": {
        "id": "view-in-github",
        "colab_type": "text"
      },
      "source": [
        "<a href=\"https://colab.research.google.com/github/DanielRomeo/c-cpp-python/blob/master/_Postfix_evaluation_using_C%2B%2B_and_stacks.ipynb\" target=\"_parent\"><img src=\"https://colab.research.google.com/assets/colab-badge.svg\" alt=\"Open In Colab\"/></a>"
      ]
    },
    {
      "cell_type": "markdown",
      "source": [
        "# Postfix evaluation using C++ and *stacks*"
      ],
      "metadata": {
        "id": "M0u3T3mjlY_c"
      }
    },
    {
      "cell_type": "code",
      "execution_count": 1,
      "metadata": {
        "colab": {
          "base_uri": "https://localhost:8080/"
        },
        "id": "nX1RcuFolW6T",
        "outputId": "7bb77cfb-f0fd-463d-d5c5-f20f515dc891"
      },
      "outputs": [
        {
          "output_type": "stream",
          "name": "stdout",
          "text": [
            "Writing main.cpp\n"
          ]
        }
      ],
      "source": [
        "%%writefile main.cpp\n",
        "\n",
        "#include <bits/stdc++.h>\n",
        "using namespace std;\n",
        "\n",
        "// The main function that returns value\n",
        "// of a given postfix expression\n",
        "int evaluatePostfix(string exp)\n",
        "{\n",
        "    // Create a stack of capacity equal to expression size\n",
        "    stack<int> st;\n",
        "\n",
        "    // Scan all characters one by one\n",
        "    for (int i = 0; i < exp.size(); ++i) {\n",
        "\n",
        "        // If the scanned character is an operand\n",
        "        // (number here), push it to the stack.\n",
        "        if (isdigit(exp[i]))\n",
        "            st.push(exp[i] - '0');\n",
        "\n",
        "        // If the scanned character is an operator,\n",
        "        // pop two elements from stack apply the operator\n",
        "        else {\n",
        "            int val1 = st.top();\n",
        "            st.pop();\n",
        "            int val2 = st.top();\n",
        "            st.pop();\n",
        "            switch (exp[i]) {\n",
        "            case '+':\n",
        "                st.push(val2 + val1);\n",
        "                break;\n",
        "            case '-':\n",
        "                st.push(val2 - val1);\n",
        "                break;\n",
        "            case '*':\n",
        "                st.push(val2 * val1);\n",
        "                break;\n",
        "            case '/':\n",
        "                st.push(val2 / val1);\n",
        "                break;\n",
        "            }\n",
        "        }\n",
        "    }\n",
        "    return st.top();\n",
        "}\n",
        "\n",
        "// Driver code\n",
        "int main()\n",
        "{\n",
        "    string exp = \"231*+9-\";\n",
        "\n",
        "    // Function call\n",
        "    cout << \"postfix evaluation: \" << evaluatePostfix(exp);\n",
        "    return 0;\n",
        "}"
      ]
    },
    {
      "cell_type": "code",
      "source": [
        "%%script bash\n",
        "g++ main.cpp\n",
        "./a.out\n"
      ],
      "metadata": {
        "colab": {
          "base_uri": "https://localhost:8080/"
        },
        "id": "ie2hEg9LlvH9",
        "outputId": "71f643a0-1849-4a4a-ffe7-14e440012c10"
      },
      "execution_count": 2,
      "outputs": [
        {
          "output_type": "stream",
          "name": "stdout",
          "text": [
            "postfix evaluation: -4"
          ]
        }
      ]
    }
  ]
}